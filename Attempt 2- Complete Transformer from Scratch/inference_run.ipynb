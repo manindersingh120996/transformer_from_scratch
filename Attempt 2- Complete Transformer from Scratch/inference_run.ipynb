{
 "cells": [
  {
   "cell_type": "code",
   "execution_count": 1,
   "id": "53316b81",
   "metadata": {},
   "outputs": [],
   "source": [
    "import torch\n",
    "from torch.utils.data import DataLoader\n",
    "from tokenizers import Tokenizer\n",
    "from dataset import causal_mask\n",
    "from model import build_transformer\n",
    "from config import get_config, get_weights_file_path\n",
    "\n",
    "def greedy_decode(model, source, source_mask, tokenizer_tgt, max_len, device):\n",
    "    sos_idx = tokenizer_tgt.token_to_id('[SOS]')\n",
    "    eos_idx = tokenizer_tgt.token_to_id('[EOS]')\n",
    "\n",
    "    encoder_output = model.encode(source, source_mask)\n",
    "    decoder_input = torch.empty(1, 1).fill_(sos_idx).type_as(source).to(device)\n",
    "\n",
    "    while True:\n",
    "        if decoder_input.size(1) == max_len:\n",
    "            break\n",
    "\n",
    "        decoder_mask = causal_mask(decoder_input.size(1)).type_as(source_mask).to(device)\n",
    "        out = model.decode(encoder_output, source_mask, decoder_input, decoder_mask)\n",
    "        prob = model.project(out[:, -1])\n",
    "        _, next_word = torch.max(prob, dim=1)\n",
    "\n",
    "        decoder_input = torch.cat(\n",
    "            [decoder_input, torch.empty(1, 1).fill_(next_word.item()).type_as(source).to(device)],\n",
    "            dim=1\n",
    "        )\n",
    "\n",
    "        if next_word.item() == eos_idx:\n",
    "            break\n",
    "\n",
    "    return decoder_input.squeeze(0)\n",
    "\n",
    "def load_tokenizer(path):\n",
    "    return Tokenizer.from_file(path)\n",
    "\n",
    "def translate_sentence(model, sentence, tokenizer_src, tokenizer_tgt, config, device):\n",
    "    model.eval()\n",
    "\n",
    "    tokens = tokenizer_src.encode(sentence).ids\n",
    "    tokens = [tokenizer_src.token_to_id('[SOS]')] + tokens + [tokenizer_src.token_to_id('[EOS]')]\n",
    "\n",
    "    if len(tokens) < config['seq_len']:\n",
    "        tokens += [tokenizer_src.token_to_id('[PAD]')] * (config['seq_len'] - len(tokens))\n",
    "    else:\n",
    "        tokens = tokens[:config['seq_len']]\n",
    "\n",
    "    encoder_input = torch.tensor(tokens, dtype=torch.long).unsqueeze(0).to(device)\n",
    "    encoder_mask = (encoder_input != tokenizer_src.token_to_id('[PAD]')).unsqueeze(1).unsqueeze(2)\n",
    "\n",
    "    output_tokens = greedy_decode(model, encoder_input, encoder_mask, tokenizer_tgt, config['seq_len'], device)\n",
    "    output_text = tokenizer_tgt.decode(output_tokens.tolist(), skip_special_tokens=True)\n",
    "    return output_text\n"
   ]
  },
  {
   "cell_type": "code",
   "execution_count": 2,
   "id": "7d8a74a2",
   "metadata": {},
   "outputs": [
    {
     "name": "stderr",
     "output_type": "stream",
     "text": [
      "C:\\Users\\manin\\AppData\\Local\\Temp\\ipykernel_16156\\647613885.py:19: FutureWarning: You are using `torch.load` with `weights_only=False` (the current default value), which uses the default pickle module implicitly. It is possible to construct malicious pickle data which will execute arbitrary code during unpickling (See https://github.com/pytorch/pytorch/blob/main/SECURITY.md#untrusted-models for more details). In a future release, the default value for `weights_only` will be flipped to `True`. This limits the functions that could be executed during unpickling. Arbitrary objects will no longer be allowed to be loaded via this mode unless they are explicitly allowlisted by the user via `torch.serialization.add_safe_globals`. We recommend you start setting `weights_only=True` for any use case where you don't have full control of the loaded file. Please open an issue on GitHub for any issues related to this experimental feature.\n",
      "  state = torch.load(model_path, map_location=device)\n"
     ]
    },
    {
     "name": "stdout",
     "output_type": "stream",
     "text": [
      "🔥 Model and tokenizers loaded. Ready for inference.\n",
      "\n",
      "🌐 Hindi Translation: को को को को को को लाभ लाभ लाभ लाभ लाभ लाभ लाभ लाभ लाभ लाभ लाभ लाभ लाभ लाभ लाभ लाभ लाभ लाभ लाभ लाभ लाभ लाभ लाभ लाभ लाभ दें\n",
      "\n",
      "🌐 Hindi Translation: को को को को को को लाभ लाभ लाभ लाभ लाभ लाभ लाभ लाभ लाभ लाभ लाभ लाभ लाभ लाभ लाभ लाभ लाभ लाभ लाभ लाभ लाभ लाभ लाभ लाभ लाभ दें\n",
      "\n",
      "🌐 Hindi Translation: को को को को को को लाभ लाभ लाभ लाभ लाभ लाभ लाभ लाभ लाभ लाभ लाभ लाभ लाभ लाभ लाभ लाभ लाभ लाभ लाभ लाभ लाभ लाभ लाभ लाभ दें\n",
      "\n",
      "🌐 Hindi Translation: को को को को को को लाभ लाभ लाभ लाभ लाभ लाभ लाभ लाभ लाभ लाभ लाभ लाभ लाभ लाभ लाभ लाभ लाभ लाभ लाभ लाभ लाभ लाभ लाभ लाभ दें\n",
      "\n"
     ]
    }
   ],
   "source": [
    "config = get_config()\n",
    "device = torch.device(\"cuda\" if torch.cuda.is_available() else \"cpu\")\n",
    "\n",
    "# Load Tokenizers\n",
    "tokenizer_src = load_tokenizer(config['tokenizer_file'].format(config['lang_src']))\n",
    "tokenizer_tgt = load_tokenizer(config['tokenizer_file'].format(config['lang_tgt']))\n",
    "\n",
    "# Load model\n",
    "model = build_transformer(\n",
    "    tokenizer_src.get_vocab_size(),\n",
    "    tokenizer_tgt.get_vocab_size(),\n",
    "    config['seq_len'],\n",
    "    config['seq_len'],\n",
    "    config['d_model']\n",
    ").to(device)\n",
    "\n",
    "model_path = get_weights_file_path(config, config['preload'])  # e.g., \"weights/04.pth\"\n",
    "model_path = r\"weights\\\\tmodel_900.pt\"\n",
    "state = torch.load(model_path, map_location=device)\n",
    "model.load_state_dict(state['model_state_dict'])\n",
    "\n",
    "print(\"🔥 Model and tokenizers loaded. Ready for inference.\\n\")\n",
    "\n",
    "while True:\n",
    "    english_input = input(\"Enter English sentence (or type 'exit' to quit): \").strip()\n",
    "    if english_input.lower() == \"exit\":\n",
    "        break\n",
    "    hindi_output = translate_sentence(model, english_input, tokenizer_src, tokenizer_tgt, config, device)\n",
    "    print(f\"🌐 Hindi Translation: {hindi_output}\\n\")\n"
   ]
  },
  {
   "cell_type": "code",
   "execution_count": null,
   "id": "33665a5a",
   "metadata": {},
   "outputs": [],
   "source": []
  }
 ],
 "metadata": {
  "kernelspec": {
   "display_name": "testenv",
   "language": "python",
   "name": "python3"
  },
  "language_info": {
   "codemirror_mode": {
    "name": "ipython",
    "version": 3
   },
   "file_extension": ".py",
   "mimetype": "text/x-python",
   "name": "python",
   "nbconvert_exporter": "python",
   "pygments_lexer": "ipython3",
   "version": "3.10.11"
  }
 },
 "nbformat": 4,
 "nbformat_minor": 5
}
