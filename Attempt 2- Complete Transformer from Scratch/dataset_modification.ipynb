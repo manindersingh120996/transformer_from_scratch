{
 "cells": [
  {
   "cell_type": "markdown",
   "id": "6049b1c7",
   "metadata": {},
   "source": [
    "### Sample code to convert data on hugging-face to the required translation format"
   ]
  },
  {
   "cell_type": "code",
   "execution_count": 16,
   "id": "3a7b6b55",
   "metadata": {},
   "outputs": [],
   "source": [
    "from datasets import load_dataset, Dataset, DatasetDict\n",
    "dataset = load_dataset('Aarif1430/english-to-hindi')"
   ]
  },
  {
   "cell_type": "code",
   "execution_count": 17,
   "id": "cb2ca247",
   "metadata": {},
   "outputs": [
    {
     "data": {
      "text/plain": [
       "DatasetDict({\n",
       "    train: Dataset({\n",
       "        features: ['english_sentence', 'hindi_sentence'],\n",
       "        num_rows: 127705\n",
       "    })\n",
       "})"
      ]
     },
     "execution_count": 17,
     "metadata": {},
     "output_type": "execute_result"
    }
   ],
   "source": [
    "dataset"
   ]
  },
  {
   "cell_type": "code",
   "execution_count": 25,
   "id": "c23ec2df",
   "metadata": {},
   "outputs": [],
   "source": [
    "\n",
    "data_trans = {\"translation\": []}\n",
    "src_max_len = 0\n",
    "tgt_max_len = 0\n",
    "for data in dataset['train']:\n",
    "    src_max_len = max(src_max_len,len(data[\"english_sentence\"].split(\" \")))\n",
    "    tgt_max_len = max(tgt_max_len,len(data[\"hindi_sentence\"].split(\" \")))\n",
    "    temp_dict = {\n",
    "        \"en\": data[\"english_sentence\"],\n",
    "        \"hi\": data[\"hindi_sentence\"]\n",
    "    }\n",
    "    data_trans[\"translation\"].append(temp_dict)\n",
    "\n",
    "# Create Hugging Face Dataset\n",
    "hf_dataset = Dataset.from_dict(data_trans)\n",
    "\n",
    "# Optionally wrap in DatasetDict if you have train/val/test splits\n",
    "hf_dataset_dict = DatasetDict({\n",
    "    \"train\": hf_dataset\n",
    "})\n"
   ]
  },
  {
   "cell_type": "code",
   "execution_count": 27,
   "id": "682a5591",
   "metadata": {},
   "outputs": [
    {
     "data": {
      "text/plain": [
       "(398, 418)"
      ]
     },
     "execution_count": 27,
     "metadata": {},
     "output_type": "execute_result"
    }
   ],
   "source": [
    "src_max_len,tgt_max_len"
   ]
  },
  {
   "cell_type": "code",
   "execution_count": 19,
   "id": "a306cb40",
   "metadata": {},
   "outputs": [
    {
     "data": {
      "text/plain": [
       "\"However, Paes, who was partnering Australia's Paul Hanley, could only go as far as the quarterfinals where they lost to Bhupathi and Knowles\""
      ]
     },
     "execution_count": 19,
     "metadata": {},
     "output_type": "execute_result"
    }
   ],
   "source": [
    "data_trans['translation'][0]['en']"
   ]
  },
  {
   "cell_type": "code",
   "execution_count": 22,
   "id": "9679ab61",
   "metadata": {},
   "outputs": [
    {
     "data": {
      "application/vnd.jupyter.widget-view+json": {
       "model_id": "8a7b325174d24d9ca2f0f85b0cf78a19",
       "version_major": 2,
       "version_minor": 0
      },
      "text/plain": [
       "VBox(children=(HTML(value='<center> <img\\nsrc=https://huggingface.co/front/assets/huggingface_logo-noborder.sv…"
      ]
     },
     "metadata": {},
     "output_type": "display_data"
    }
   ],
   "source": [
    "from huggingface_hub import notebook_login\n",
    "notebook_login()\n"
   ]
  },
  {
   "cell_type": "code",
   "execution_count": 23,
   "id": "4f51c0f9",
   "metadata": {},
   "outputs": [
    {
     "data": {
      "application/vnd.jupyter.widget-view+json": {
       "model_id": "1831239cdc684bf0b7415e8ab019ef53",
       "version_major": 2,
       "version_minor": 0
      },
      "text/plain": [
       "Uploading the dataset shards:   0%|          | 0/1 [00:00<?, ?it/s]"
      ]
     },
     "metadata": {},
     "output_type": "display_data"
    },
    {
     "data": {
      "application/vnd.jupyter.widget-view+json": {
       "model_id": "803c42993cda418e9f4503b8ecdbe5fb",
       "version_major": 2,
       "version_minor": 0
      },
      "text/plain": [
       "Creating parquet from Arrow format:   0%|          | 0/128 [00:00<?, ?ba/s]"
      ]
     },
     "metadata": {},
     "output_type": "display_data"
    },
    {
     "data": {
      "text/plain": [
       "CommitInfo(commit_url='https://huggingface.co/datasets/philomath-1209/english-to-hindi-high-quality-training-data/commit/85d8bb87ae00cbd3ce9a8db22ac0f3305cb32259', commit_message='Upload dataset', commit_description='', oid='85d8bb87ae00cbd3ce9a8db22ac0f3305cb32259', pr_url=None, repo_url=RepoUrl('https://huggingface.co/datasets/philomath-1209/english-to-hindi-high-quality-training-data', endpoint='https://huggingface.co', repo_type='dataset', repo_id='philomath-1209/english-to-hindi-high-quality-training-data'), pr_revision=None, pr_num=None)"
      ]
     },
     "execution_count": 23,
     "metadata": {},
     "output_type": "execute_result"
    }
   ],
   "source": [
    "hf_dataset_dict.push_to_hub(\"philomath-1209/english-to-hindi-high-quality-training-data\")\n"
   ]
  },
  {
   "cell_type": "code",
   "execution_count": 1,
   "id": "48c3a102",
   "metadata": {},
   "outputs": [
    {
     "data": {
      "text/plain": [
       "64"
      ]
     },
     "execution_count": 1,
     "metadata": {},
     "output_type": "execute_result"
    }
   ],
   "source": [
    "len([1457,  603,  218, 7878,    3,    1,    1,    1,    1,    1,    1,    1,\n",
    "           1,    1,    1,    1,    1,    1,    1,    1,    1,    1,    1,    1,\n",
    "           1,    1,    1,    1,    1,    1,    1,    1,    1,    1,    1,    1,\n",
    "           1,    1,    1,    1,    1,    1,    1,    1,    1,    1,    1,    1,\n",
    "           1,    1,    1,    1,    1,    1,    1,    1,    1,    1,    1,    1,\n",
    "           1,    1,    1,    1])"
   ]
  },
  {
   "cell_type": "code",
   "execution_count": null,
   "id": "d07faf37",
   "metadata": {},
   "outputs": [],
   "source": []
  }
 ],
 "metadata": {
  "kernelspec": {
   "display_name": "testenv",
   "language": "python",
   "name": "python3"
  },
  "language_info": {
   "codemirror_mode": {
    "name": "ipython",
    "version": 3
   },
   "file_extension": ".py",
   "mimetype": "text/x-python",
   "name": "python",
   "nbconvert_exporter": "python",
   "pygments_lexer": "ipython3",
   "version": "3.10.11"
  }
 },
 "nbformat": 4,
 "nbformat_minor": 5
}
